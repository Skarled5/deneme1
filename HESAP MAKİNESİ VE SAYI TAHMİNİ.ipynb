{
 "cells": [
  {
   "cell_type": "code",
   "execution_count": 1,
   "id": "6f0ed808",
   "metadata": {},
   "outputs": [
    {
     "name": "stdout",
     "output_type": "stream",
     "text": [
      "bir sayı girin: 5\n",
      "bir sayı girin: 3\n",
      "Bir islem secin(+,-,*,/): +\n",
      "8\n"
     ]
    }
   ],
   "source": [
    "sayı1=int(input(\"bir sayı girin: \"))\n",
    "sayı2=int(input(\"bir sayı girin: \"))\n",
    "islem=input(\"Bir islem secin(+,-,*,/): \")\n",
    "\n",
    "if islem==\"+\":\n",
    "    print(sayı1 + sayı2)\n",
    "elif islem==\"-\":\n",
    "    print(sayı1 - sayı2)\n",
    "elif islem==\"*\":\n",
    "    print(sayı1 * sayı2)\n",
    "elif islem==\"/\":\n",
    "    print(sayı1 / sayı2)\n",
    "else:\n",
    "    print(\"Böyle bir islem mevcut degildir\")\n",
    "#print(sayı1,\"4/*-\",sayı2,\"=\",sayı1+sayı2)"
   ]
  },
  {
   "cell_type": "code",
   "execution_count": 1,
   "id": "0114d240",
   "metadata": {},
   "outputs": [
    {
     "name": "stdout",
     "output_type": "stream",
     "text": [
      "SAYI TAHMİN ETME OYUNU\n",
      "0-50 arası sayı\n",
      "bir sayı girin30\n",
      "2 HAKKINIZ KALDI\n",
      "daha kücük bir sayı giriniz20\n",
      "1 HAKKINIZ KALDI\n",
      "daha kücük bir sayı giriniz11\n",
      "0 HAKKINIZ KALDI\n",
      "daha kücük bir sayı giriniz6\n",
      "OYUNU KAYBETTİN\n"
     ]
    }
   ],
   "source": [
    "print('SAYI TAHMİN ETME OYUNU')\n",
    "print('0-50 arası sayı')\n",
    "sayı=10\n",
    "oyuncusayısı=int(input(\"bir sayı girin\"))\n",
    "sans=3\n",
    "while True:\n",
    "    if sans>0:\n",
    "        if oyuncusayısı>sayı:\n",
    "            sans-=1\n",
    "            print(sans,\"HAKKINIZ KALDI\")\n",
    "            oyuncusayısı=int(input(\"daha kücük bir sayı giriniz\"))\n",
    "        elif oyuncusayısı<sayı:\n",
    "            sans-=1\n",
    "            print(sans,\"HAKKINIZ KALDI\")\n",
    "            oyuncusayısı=int(input(\"daha büyük bir sayı giriniz \"))\n",
    "        if oyuncusayısı==sayı:\n",
    "            print(\"TEBRİKLER OYUNU KAZANDINIZ\")\n",
    "            break\n",
    "    if sans==0:\n",
    "        print(\"OYUNU KAYBETTİN\")\n",
    "        break\n",
    "        "
   ]
  },
  {
   "cell_type": "code",
   "execution_count": 1,
   "id": "abec4679",
   "metadata": {},
   "outputs": [
    {
     "name": "stdout",
     "output_type": "stream",
     "text": [
      "Bir kelime girin: hakan\n",
      "nakah\n"
     ]
    }
   ],
   "source": [
    "kelime=str(input(\"Bir kelime girin: \"))\n",
    "print(kelime[::-1])"
   ]
  },
  {
   "cell_type": "code",
   "execution_count": null,
   "id": "0995df8d",
   "metadata": {},
   "outputs": [],
   "source": []
  }
 ],
 "metadata": {
  "kernelspec": {
   "display_name": "Python 3 (ipykernel)",
   "language": "python",
   "name": "python3"
  },
  "language_info": {
   "codemirror_mode": {
    "name": "ipython",
    "version": 3
   },
   "file_extension": ".py",
   "mimetype": "text/x-python",
   "name": "python",
   "nbconvert_exporter": "python",
   "pygments_lexer": "ipython3",
   "version": "3.9.12"
  }
 },
 "nbformat": 4,
 "nbformat_minor": 5
}
